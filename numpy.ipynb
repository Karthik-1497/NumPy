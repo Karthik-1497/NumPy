{
 "cells": [
  {
   "cell_type": "code",
   "execution_count": 1,
   "id": "1058ac17",
   "metadata": {},
   "outputs": [],
   "source": [
    "import numpy as np"
   ]
  },
  {
   "cell_type": "code",
   "execution_count": 2,
   "id": "0432f96a",
   "metadata": {},
   "outputs": [],
   "source": [
    "mark_list = [82,95,90,80,85,72]\n",
    "mark_array = np.array(mark_list)"
   ]
  },
  {
   "cell_type": "code",
   "execution_count": 3,
   "id": "a2329aaa",
   "metadata": {},
   "outputs": [
    {
     "name": "stdout",
     "output_type": "stream",
     "text": [
      "[82 95 90 80 85 72]\n"
     ]
    }
   ],
   "source": [
    "print(mark_array)"
   ]
  },
  {
   "cell_type": "code",
   "execution_count": 48,
   "id": "f32ee20b",
   "metadata": {},
   "outputs": [
    {
     "data": {
      "text/plain": [
       "array([[0.58822557, 0.66998116, 0.46957007],\n",
       "       [0.66644029, 0.52984154, 0.09563714],\n",
       "       [0.8579798 , 0.18347101, 0.27975032]])"
      ]
     },
     "execution_count": 48,
     "metadata": {},
     "output_type": "execute_result"
    }
   ],
   "source": [
    "np.random.rand(3,3)"
   ]
  },
  {
   "cell_type": "code",
   "execution_count": 125,
   "id": "b8542c50",
   "metadata": {},
   "outputs": [
    {
     "data": {
      "text/plain": [
       "array([0.13860297, 0.1044753 , 0.61368438, 0.29377924, 0.82847196,\n",
       "       0.84480102, 0.57282655, 0.75552671, 0.97589409, 0.02345334,\n",
       "       0.10311741, 0.54121775, 0.10339506, 0.05601659, 0.14450311,\n",
       "       0.19256817, 0.52356636, 0.76245299, 0.79241998, 0.28671144,\n",
       "       0.81446822, 0.1929128 , 0.54868956, 0.31685509, 0.87014966,\n",
       "       0.61948043, 0.69679419, 0.65136263, 0.35286826, 0.06937717])"
      ]
     },
     "execution_count": 125,
     "metadata": {},
     "output_type": "execute_result"
    }
   ],
   "source": [
    "np.random.random(30)"
   ]
  },
  {
   "cell_type": "code",
   "execution_count": 123,
   "id": "6a549ebf",
   "metadata": {},
   "outputs": [
    {
     "data": {
      "text/plain": [
       "array([[ 2.06366679, -0.82371654, -0.23308945],\n",
       "       [-0.46482093, -0.81136501,  1.74702746],\n",
       "       [ 1.11900687,  0.92811959, -1.59562405],\n",
       "       [-0.52282363, -0.95149967, -0.33401513]])"
      ]
     },
     "execution_count": 123,
     "metadata": {},
     "output_type": "execute_result"
    }
   ],
   "source": [
    "np.random.randn(4,3)"
   ]
  },
  {
   "cell_type": "code",
   "execution_count": 55,
   "id": "9548a32d",
   "metadata": {},
   "outputs": [
    {
     "data": {
      "text/plain": [
       "array([ 30,  70,  89,  75,  62,  46,  16,  25,  36,  79,  63,  56,  86,\n",
       "        29,  33,  23,  72,   7,  88,  17,  72,  88,  69,  15,  66,  91,\n",
       "        88,  87,  75,  98,  51,  17,   9,  87,  20,  51,  43,  73,  83,\n",
       "        14,  95,  67,  74,  22,  20,   7,  25,  44,  29,  42,   3,  70,\n",
       "        46,  98,  55,  64,  90,  19,  78,  39, 100,  25,  53,  80,   4,\n",
       "         8,  23,  14,  75,  16,  75,  35,  30,  50,  19,   7,  60,  69,\n",
       "        94,  54,  30,  86,  55,  44,  70,  28,  20,  51,  70,  96,  16,\n",
       "        13,  80,  54,  78,  71,  78,  95,   8,  94])"
      ]
     },
     "execution_count": 55,
     "metadata": {},
     "output_type": "execute_result"
    }
   ],
   "source": [
    "np.random.randint(1,101,100)"
   ]
  },
  {
   "cell_type": "code",
   "execution_count": 67,
   "id": "aa9e9747",
   "metadata": {},
   "outputs": [
    {
     "data": {
      "text/plain": [
       "7"
      ]
     },
     "execution_count": 67,
     "metadata": {},
     "output_type": "execute_result"
    }
   ],
   "source": [
    "np.random.randint(1,10)"
   ]
  },
  {
   "cell_type": "code",
   "execution_count": 70,
   "id": "a5a1738e",
   "metadata": {},
   "outputs": [],
   "source": [
    "array = np.arange(5,100,5)"
   ]
  },
  {
   "cell_type": "code",
   "execution_count": 71,
   "id": "526d558d",
   "metadata": {},
   "outputs": [
    {
     "name": "stdout",
     "output_type": "stream",
     "text": [
      "[ 5 10 15 20 25 30 35 40 45 50 55 60 65 70 75 80 85 90 95]\n"
     ]
    }
   ],
   "source": [
    "print(array)"
   ]
  },
  {
   "cell_type": "code",
   "execution_count": 77,
   "id": "63c62317",
   "metadata": {},
   "outputs": [],
   "source": [
    "arr = np.arange(100,0,-1)"
   ]
  },
  {
   "cell_type": "code",
   "execution_count": 78,
   "id": "34bae4f5",
   "metadata": {},
   "outputs": [
    {
     "name": "stdout",
     "output_type": "stream",
     "text": [
      "[100  99  98  97  96  95  94  93  92  91  90  89  88  87  86  85  84  83\n",
      "  82  81  80  79  78  77  76  75  74  73  72  71  70  69  68  67  66  65\n",
      "  64  63  62  61  60  59  58  57  56  55  54  53  52  51  50  49  48  47\n",
      "  46  45  44  43  42  41  40  39  38  37  36  35  34  33  32  31  30  29\n",
      "  28  27  26  25  24  23  22  21  20  19  18  17  16  15  14  13  12  11\n",
      "  10   9   8   7   6   5   4   3   2   1]\n"
     ]
    }
   ],
   "source": [
    "print(arr)\n"
   ]
  },
  {
   "cell_type": "code",
   "execution_count": 128,
   "id": "60d0af32",
   "metadata": {},
   "outputs": [
    {
     "data": {
      "text/plain": [
       "array([ 0. ,  2.5,  5. ,  7.5, 10. ])"
      ]
     },
     "execution_count": 128,
     "metadata": {},
     "output_type": "execute_result"
    }
   ],
   "source": [
    "np.linspace(0,10,5)"
   ]
  },
  {
   "cell_type": "code",
   "execution_count": 90,
   "id": "a95f4c10",
   "metadata": {},
   "outputs": [],
   "source": [
    "ap = np.zeros(10,int)"
   ]
  },
  {
   "cell_type": "code",
   "execution_count": 91,
   "id": "bd95e3d6",
   "metadata": {},
   "outputs": [
    {
     "name": "stdout",
     "output_type": "stream",
     "text": [
      "[0 0 0 0 0 0 0 0 0 0]\n"
     ]
    }
   ],
   "source": [
    "print(ap)"
   ]
  },
  {
   "cell_type": "code",
   "execution_count": 93,
   "id": "db2b2996",
   "metadata": {},
   "outputs": [
    {
     "data": {
      "text/plain": [
       "array([1, 1, 1, 1, 1, 1, 1, 1, 1, 1, 1, 1, 1, 1, 1, 1, 1, 1, 1, 1, 1, 1,\n",
       "       1, 1, 1, 1, 1, 1, 1, 1, 1, 1, 1, 1, 1, 1, 1, 1, 1, 1, 1, 1, 1, 1,\n",
       "       1, 1, 1, 1, 1, 1, 1, 1, 1, 1, 1, 1, 1, 1, 1, 1, 1, 1, 1, 1, 1, 1,\n",
       "       1, 1, 1, 1, 1, 1, 1, 1, 1, 1, 1, 1, 1, 1, 1, 1, 1, 1, 1, 1, 1, 1,\n",
       "       1, 1, 1, 1, 1, 1, 1, 1, 1, 1, 1, 1])"
      ]
     },
     "execution_count": 93,
     "metadata": {},
     "output_type": "execute_result"
    }
   ],
   "source": [
    "np.ones(100,int)"
   ]
  },
  {
   "cell_type": "code",
   "execution_count": 96,
   "id": "a1699bbe",
   "metadata": {},
   "outputs": [
    {
     "name": "stdout",
     "output_type": "stream",
     "text": [
      "[[1696097520        432          0]\n",
      " [   5570652       1128          0]\n",
      " [       768      32761    6815860]]\n"
     ]
    }
   ],
   "source": [
    "matrix = np.empty((3,3),dtype = int)\n",
    "print(matrix)"
   ]
  },
  {
   "cell_type": "code",
   "execution_count": 97,
   "id": "3fce829c",
   "metadata": {},
   "outputs": [],
   "source": [
    "matrix = np.full((3,3),fill_value = 11)"
   ]
  },
  {
   "cell_type": "code",
   "execution_count": 98,
   "id": "35d9d1e6",
   "metadata": {},
   "outputs": [
    {
     "name": "stdout",
     "output_type": "stream",
     "text": [
      "[[11 11 11]\n",
      " [11 11 11]\n",
      " [11 11 11]]\n"
     ]
    }
   ],
   "source": [
    "print(matrix)"
   ]
  },
  {
   "cell_type": "code",
   "execution_count": 100,
   "id": "c64d7d34",
   "metadata": {},
   "outputs": [
    {
     "data": {
      "text/plain": [
       "array([[1., 0., 0., 0., 0., 0.],\n",
       "       [0., 1., 0., 0., 0., 0.],\n",
       "       [0., 0., 1., 0., 0., 0.],\n",
       "       [0., 0., 0., 1., 0., 0.],\n",
       "       [0., 0., 0., 0., 1., 0.],\n",
       "       [0., 0., 0., 0., 0., 1.]])"
      ]
     },
     "execution_count": 100,
     "metadata": {},
     "output_type": "execute_result"
    }
   ],
   "source": [
    "np.identity(6)"
   ]
  },
  {
   "cell_type": "code",
   "execution_count": 101,
   "id": "32dd989d",
   "metadata": {},
   "outputs": [
    {
     "data": {
      "text/plain": [
       "array([[1., 0., 0., 0., 0.],\n",
       "       [0., 1., 0., 0., 0.],\n",
       "       [0., 0., 1., 0., 0.],\n",
       "       [0., 0., 0., 1., 0.]])"
      ]
     },
     "execution_count": 101,
     "metadata": {},
     "output_type": "execute_result"
    }
   ],
   "source": [
    "np.eye(4,5,0)"
   ]
  },
  {
   "cell_type": "code",
   "execution_count": 102,
   "id": "9be32b91",
   "metadata": {},
   "outputs": [
    {
     "data": {
      "text/plain": [
       "array([[0., 0., 1., 0., 0.],\n",
       "       [0., 0., 0., 1., 0.],\n",
       "       [0., 0., 0., 0., 1.],\n",
       "       [0., 0., 0., 0., 0.]])"
      ]
     },
     "execution_count": 102,
     "metadata": {},
     "output_type": "execute_result"
    }
   ],
   "source": [
    "np.eye(4,5,2)"
   ]
  },
  {
   "cell_type": "code",
   "execution_count": 103,
   "id": "6f7e7e10",
   "metadata": {},
   "outputs": [
    {
     "data": {
      "text/plain": [
       "array([[0., 0., 0., 0., 0.],\n",
       "       [0., 0., 0., 0., 0.],\n",
       "       [1., 0., 0., 0., 0.],\n",
       "       [0., 1., 0., 0., 0.]])"
      ]
     },
     "execution_count": 103,
     "metadata": {},
     "output_type": "execute_result"
    }
   ],
   "source": [
    "np.eye(4,5,-2)"
   ]
  },
  {
   "cell_type": "code",
   "execution_count": 104,
   "id": "6be35170",
   "metadata": {},
   "outputs": [],
   "source": [
    "a = np.arange(1,21)"
   ]
  },
  {
   "cell_type": "code",
   "execution_count": 105,
   "id": "9341aff3",
   "metadata": {},
   "outputs": [
    {
     "name": "stdout",
     "output_type": "stream",
     "text": [
      "[ 1  2  3  4  5  6  7  8  9 10 11 12 13 14 15 16 17 18 19 20]\n"
     ]
    }
   ],
   "source": [
    "print(a)"
   ]
  },
  {
   "cell_type": "code",
   "execution_count": 107,
   "id": "ac385a56",
   "metadata": {},
   "outputs": [
    {
     "data": {
      "text/plain": [
       "array([[ 1,  2,  3,  4,  5],\n",
       "       [ 6,  7,  8,  9, 10],\n",
       "       [11, 12, 13, 14, 15],\n",
       "       [16, 17, 18, 19, 20]])"
      ]
     },
     "execution_count": 107,
     "metadata": {},
     "output_type": "execute_result"
    }
   ],
   "source": [
    "a.reshape(4,5)"
   ]
  },
  {
   "cell_type": "code",
   "execution_count": 108,
   "id": "01510dc2",
   "metadata": {},
   "outputs": [
    {
     "data": {
      "text/plain": [
       "array([[ 1,  2,  3,  4,  5,  6,  7,  8,  9, 10],\n",
       "       [11, 12, 13, 14, 15, 16, 17, 18, 19, 20]])"
      ]
     },
     "execution_count": 108,
     "metadata": {},
     "output_type": "execute_result"
    }
   ],
   "source": [
    "a.reshape(2,10)"
   ]
  },
  {
   "cell_type": "code",
   "execution_count": 119,
   "id": "204c97e9",
   "metadata": {},
   "outputs": [],
   "source": [
    "sample_array = np.arange(0,11)"
   ]
  },
  {
   "cell_type": "code",
   "execution_count": 120,
   "id": "edf5af3f",
   "metadata": {},
   "outputs": [
    {
     "data": {
      "text/plain": [
       "6"
      ]
     },
     "execution_count": 120,
     "metadata": {},
     "output_type": "execute_result"
    }
   ],
   "source": [
    "sample_array[6]"
   ]
  },
  {
   "cell_type": "code",
   "execution_count": 121,
   "id": "d377a68d",
   "metadata": {},
   "outputs": [
    {
     "data": {
      "text/plain": [
       "array([0, 1, 2])"
      ]
     },
     "execution_count": 121,
     "metadata": {},
     "output_type": "execute_result"
    }
   ],
   "source": [
    "sample_array[:3]"
   ]
  },
  {
   "cell_type": "code",
   "execution_count": 1,
   "id": "51141572",
   "metadata": {},
   "outputs": [
    {
     "data": {
      "text/plain": [
       "'l'"
      ]
     },
     "execution_count": 1,
     "metadata": {},
     "output_type": "execute_result"
    }
   ],
   "source": [
    "text = 'i love python'\n",
    "text[::-1][-3]"
   ]
  },
  {
   "cell_type": "code",
   "execution_count": null,
   "id": "3b7b34b2",
   "metadata": {},
   "outputs": [],
   "source": []
  }
 ],
 "metadata": {
  "kernelspec": {
   "display_name": "Python 3 (ipykernel)",
   "language": "python",
   "name": "python3"
  },
  "language_info": {
   "codemirror_mode": {
    "name": "ipython",
    "version": 3
   },
   "file_extension": ".py",
   "mimetype": "text/x-python",
   "name": "python",
   "nbconvert_exporter": "python",
   "pygments_lexer": "ipython3",
   "version": "3.9.13"
  }
 },
 "nbformat": 4,
 "nbformat_minor": 5
}
